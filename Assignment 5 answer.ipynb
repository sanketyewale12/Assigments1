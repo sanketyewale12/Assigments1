{
 "cells": [
  {
   "cell_type": "markdown",
   "id": "95e5ce50",
   "metadata": {},
   "source": [
    "1. What does an empty dictionary code look like?\n",
    "Ans: dict = {}\n",
    "     type(dict)"
   ]
  },
  {
   "cell_type": "markdown",
   "id": "1b9e8725",
   "metadata": {},
   "source": [
    "2. What is the value of a dictionary value with the key foo and the value 42?\n",
    "Ans:{'foo':42}"
   ]
  },
  {
   "cell_type": "markdown",
   "id": "99c92303",
   "metadata": {},
   "source": [
    "3. What is the most significant distinction between a dictionary and a list?\n",
    "Ans:List - items in list are Ordered\n",
    "    Dictionary : iten in dictionary are unordered"
   ]
  },
  {
   "cell_type": "markdown",
   "id": "0f76a6ef",
   "metadata": {},
   "source": [
    "4. What happens if you try to access spam[foo] if spam is {bar 100}?\n"
   ]
  },
  {
   "cell_type": "code",
   "execution_count": 3,
   "id": "f76a1582",
   "metadata": {},
   "outputs": [
    {
     "ename": "KeyError",
     "evalue": "'foo'",
     "output_type": "error",
     "traceback": [
      "\u001b[1;31m---------------------------------------------------------------------------\u001b[0m",
      "\u001b[1;31mKeyError\u001b[0m                                  Traceback (most recent call last)",
      "\u001b[1;32m~\\AppData\\Local\\Temp\\ipykernel_12548\\4026577702.py\u001b[0m in \u001b[0;36m<module>\u001b[1;34m\u001b[0m\n\u001b[0;32m      1\u001b[0m \u001b[0mspam\u001b[0m \u001b[1;33m=\u001b[0m \u001b[1;33m{\u001b[0m\u001b[1;34m'bar'\u001b[0m\u001b[1;33m:\u001b[0m\u001b[1;36m100\u001b[0m\u001b[1;33m}\u001b[0m\u001b[1;33m\u001b[0m\u001b[1;33m\u001b[0m\u001b[0m\n\u001b[1;32m----> 2\u001b[1;33m \u001b[0mspam\u001b[0m\u001b[1;33m[\u001b[0m\u001b[1;34m'foo'\u001b[0m\u001b[1;33m]\u001b[0m\u001b[1;33m\u001b[0m\u001b[1;33m\u001b[0m\u001b[0m\n\u001b[0m",
      "\u001b[1;31mKeyError\u001b[0m: 'foo'"
     ]
    }
   ],
   "source": [
    "spam = {'bar':100}\n",
    "spam['foo']"
   ]
  },
  {
   "cell_type": "markdown",
   "id": "c6e658bc",
   "metadata": {},
   "source": [
    "5. If a dictionary is stored in spam, what is the difference between the expressions cat in spam and cat in spam.keys()?\n"
   ]
  },
  {
   "cell_type": "code",
   "execution_count": 5,
   "id": "eb601e69",
   "metadata": {},
   "outputs": [
    {
     "data": {
      "text/plain": [
       "True"
      ]
     },
     "execution_count": 5,
     "metadata": {},
     "output_type": "execute_result"
    }
   ],
   "source": [
    "spam ={'cat':100}\n",
    "'cat' in spam\n",
    "     "
   ]
  },
  {
   "cell_type": "code",
   "execution_count": 6,
   "id": "311e6daa",
   "metadata": {},
   "outputs": [
    {
     "data": {
      "text/plain": [
       "False"
      ]
     },
     "execution_count": 6,
     "metadata": {},
     "output_type": "execute_result"
    }
   ],
   "source": [
    "spam ={'cat':100}\n",
    "'cat' in spam.values()"
   ]
  },
  {
   "cell_type": "markdown",
   "id": "20412201",
   "metadata": {},
   "source": [
    "6. What is a shortcut for the following code?\n"
   ]
  },
  {
   "cell_type": "code",
   "execution_count": 7,
   "id": "5e69709f",
   "metadata": {},
   "outputs": [
    {
     "data": {
      "text/plain": [
       "{'cat': 100, 'color': 'black'}"
      ]
     },
     "execution_count": 7,
     "metadata": {},
     "output_type": "execute_result"
    }
   ],
   "source": [
    "spam ={'cat':100}\n",
    "spam.setdefault('color','black')\n",
    "spam\n"
   ]
  },
  {
   "cell_type": "markdown",
   "id": "a96dcd72",
   "metadata": {},
   "source": [
    "8. How do you pretty print dictionary values using which module and function?"
   ]
  },
  {
   "cell_type": "code",
   "execution_count": 31,
   "id": "4d905fe2",
   "metadata": {},
   "outputs": [],
   "source": [
    "import pprint\n",
    "dct = [ {'Name': 'Shiva', 'Age': 23, 'Country': 'India'},\n",
    "  {'Name': 'Anna', 'Age': 44, 'Country': 'China'},\n",
    "  {'Name': 'Joe', 'Age': 29, 'Country': 'UK'},\n",
    "  {'Name': 'Chumlee', 'Age': 35, 'Country': 'USA'}\n",
    "]\n",
    "     "
   ]
  },
  {
   "cell_type": "code",
   "execution_count": 32,
   "id": "57ca7639",
   "metadata": {},
   "outputs": [
    {
     "name": "stdout",
     "output_type": "stream",
     "text": [
      "[{'Age': 23, 'Country': 'India', 'Name': 'Shiva'},\n",
      " {'Age': 44, 'Country': 'China', 'Name': 'Anna'},\n",
      " {'Age': 29, 'Country': 'UK', 'Name': 'Joe'},\n",
      " {'Age': 35, 'Country': 'USA', 'Name': 'Chumlee'}]\n"
     ]
    }
   ],
   "source": [
    "pprint.pprint(dct)"
   ]
  }
 ],
 "metadata": {
  "kernelspec": {
   "display_name": "Python 3 (ipykernel)",
   "language": "python",
   "name": "python3"
  },
  "language_info": {
   "codemirror_mode": {
    "name": "ipython",
    "version": 3
   },
   "file_extension": ".py",
   "mimetype": "text/x-python",
   "name": "python",
   "nbconvert_exporter": "python",
   "pygments_lexer": "ipython3",
   "version": "3.9.13"
  }
 },
 "nbformat": 4,
 "nbformat_minor": 5
}
